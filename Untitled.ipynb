{
 "cells": [
  {
   "cell_type": "markdown",
   "id": "ee551b57-8173-40da-8a0b-7e198b23ec25",
   "metadata": {},
   "source": [
    "## Phase I Project Proposal\n",
    "### What Type of Players Wins NBA Championship?\n",
    "\n",
    "#### Name: Dylan Kim, DS 3000\n"
   ]
  },
  {
   "cell_type": "markdown",
   "id": "3fdb4a9f-7edf-4b1b-a1f4-67702c5306c1",
   "metadata": {},
   "source": [
    "### Introduction\n",
    "\n"
   ]
  },
  {
   "cell_type": "markdown",
   "id": "213e6dea-7b23-4d9d-bdb4-0427d20ee636",
   "metadata": {},
   "source": [
    "### Data Collection\n",
    "\n"
   ]
  },
  {
   "cell_type": "code",
   "execution_count": null,
   "id": "80abb9c1-9da2-40c5-949f-9245c96dd0b6",
   "metadata": {},
   "outputs": [],
   "source": []
  },
  {
   "cell_type": "markdown",
   "id": "1ff467d1-c2b9-4f9d-bbfa-4bc2226c7d6e",
   "metadata": {},
   "source": [
    "### Data Usage and Remaining Issues\n",
    "\n"
   ]
  },
  {
   "cell_type": "code",
   "execution_count": null,
   "id": "b4b565fd-b966-4bd8-9bb1-93a62c68e0ba",
   "metadata": {},
   "outputs": [],
   "source": []
  }
 ],
 "metadata": {
  "kernelspec": {
   "display_name": "Python 3 (ipykernel)",
   "language": "python",
   "name": "python3"
  },
  "language_info": {
   "codemirror_mode": {
    "name": "ipython",
    "version": 3
   },
   "file_extension": ".py",
   "mimetype": "text/x-python",
   "name": "python",
   "nbconvert_exporter": "python",
   "pygments_lexer": "ipython3",
   "version": "3.11.5"
  }
 },
 "nbformat": 4,
 "nbformat_minor": 5
}
